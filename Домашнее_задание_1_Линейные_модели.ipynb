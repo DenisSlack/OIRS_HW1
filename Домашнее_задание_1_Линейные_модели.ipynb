{
  "nbformat": 4,
  "nbformat_minor": 0,
  "metadata": {
    "colab": {
      "name": "Домашнее задание 1. Линейные модели.ipynb",
      "provenance": [],
      "collapsed_sections": []
    },
    "kernelspec": {
      "name": "python3",
      "display_name": "Python 3"
    },
    "language_info": {
      "name": "python"
    }
  },
  "cells": [
    {
      "cell_type": "markdown",
      "source": [
        " # Домашнее задание 1. Линейные модели"
      ],
      "metadata": {
        "id": "ob7zZxZ2W0Np"
      }
    },
    {
      "cell_type": "markdown",
      "source": [
        "### Тимошенко Денис Константинович ИУ8-83 (13 вариант)"
      ],
      "metadata": {
        "id": "vUPbnxUaWtTn"
      }
    },
    {
      "cell_type": "markdown",
      "source": [
        "В зависимости от варианта, для решения задачи используйте следующие наборы данных:\n",
        "\n",
        "<table>\n",
        "    <thead>\n",
        "         <tr>\n",
        "            <th colspan=1>Задача классификации</th>\n",
        "            <th colspan=5>Задача регрессии</th>\n",
        "        </tr>\n",
        "        <tr>\n",
        "            <th> </th>\n",
        "            <th>A</th>\n",
        "            <th>B</th>\n",
        "            <th>C</th>\n",
        "            <th>D</th>\n",
        "            <th>E</th>\n",
        "        </tr>\n",
        "    </thead>\n",
        "    <tbody>\n",
        "        <tr>\n",
        "            <td>K</td>\n",
        "            <td>1</td>\n",
        "            <td>2</td>\n",
        "            <td>3</td>\n",
        "            <td>4</td>\n",
        "            <td>5</td>\n",
        "        </tr>\n",
        "        <tr>\n",
        "            <td>L</td>\n",
        "            <td>6</td>\n",
        "            <td>7</td>\n",
        "            <td>8</td>\n",
        "            <td>9</td>\n",
        "            <td>10</td>\n",
        "        </tr>\n",
        "        <tr>\n",
        "            <td>M</td>\n",
        "            <td>11</td>\n",
        "            <td>12</td>\n",
        "            <td>13</td>\n",
        "            <td>14</td>\n",
        "            <td>15</td>\n",
        "        </tr>\n",
        "        <tr>\n",
        "            <td>N</td>\n",
        "            <td>16</td>\n",
        "            <td>17</td>\n",
        "            <td>18</td>\n",
        "            <td>19</td>\n",
        "            <td>20</td>\n",
        "        </tr>\n",
        "        <tr>\n",
        "            <td>O</td>\n",
        "            <td>21</td>\n",
        "            <td>22</td>\n",
        "            <td>23</td>\n",
        "            <td>24</td>\n",
        "            <td>25</td>\n",
        "        </tr>\n",
        "    </tbody>\n",
        "</table>"
      ],
      "metadata": {
        "id": "Yhi_UjnwGeN-"
      }
    },
    {
      "cell_type": "markdown",
      "source": [
        "### Наборы данных\n",
        "\n",
        "**Задача регрессии**\n",
        "\n",
        "C. [Набор данных](https://www.kaggle.com/quantbruce/real-estate-price-prediction) Таблица `Real estate.csv`. Задача: построить модель, предсказывающую стоимость квадратного метра жилья (колонка `Y house price of unit area`). Baseline: RMSE (root mean square error) = 8\n",
        "\n",
        "**Задача классификации**\n",
        "\n",
        "M. [Набор данных](https://www.kaggle.com/uciml/sms-spam-collection-dataset) Таблица `spam.csv` (при загрузку датасета в питоне использовать кодировку encoding='latin-1'). Задача: детектировать, является ли СМС-сообщение спамом. Baseline: sklearn.metrics.f1_score(average='macro') = 0.95\n"
      ],
      "metadata": {
        "id": "tPE-QsRUCGjY"
      }
    },
    {
      "cell_type": "markdown",
      "source": [
        "# 0. Инициализация ноутбука\n",
        "\n",
        "Загрузка необходимых библиотек"
      ],
      "metadata": {
        "id": "eTQftz5yJ0Qf"
      }
    },
    {
      "cell_type": "code",
      "source": [
        "import numpy as np\n",
        "import pandas as pd\n",
        "import matplotlib.pyplot as plt\n",
        "import seaborn as sns"
      ],
      "metadata": {
        "id": "3MGNvut_Jnd3"
      },
      "execution_count": null,
      "outputs": []
    },
    {
      "cell_type": "markdown",
      "source": [
        "# 1. Задача регресссии (9 баллов)\n",
        "\n",
        "Постройте модель машинного обучения, решающую задачу регресии на вашем наборе данных. Задание считается выполненным, если соответствующая оценка качества на тестовой выборке >= baseline."
      ],
      "metadata": {
        "id": "-L4jbO78B-kv"
      }
    },
    {
      "cell_type": "markdown",
      "source": [
        "## 1.1 Загрузка данных\n",
        "\n",
        "Загрузите данные в датафрейм при помощи функции `read_csv` блиблиотеки pandas"
      ],
      "metadata": {
        "id": "eKbd7LAqCFSj"
      }
    },
    {
      "cell_type": "code",
      "source": [
        ""
      ],
      "metadata": {
        "id": "UJhaFPwm0KTf"
      },
      "execution_count": null,
      "outputs": []
    },
    {
      "cell_type": "markdown",
      "source": [
        "## 1.2 График совместного распределения признаков\n",
        "\n",
        "\n",
        "Постройте график совместного распределения количественных признаков при помощи функции pairplot библиотеки seaborn"
      ],
      "metadata": {
        "id": "tQ_ZBqyRCYZC"
      }
    },
    {
      "cell_type": "code",
      "source": [
        ""
      ],
      "metadata": {
        "id": "hTASV_TJCT4g"
      },
      "execution_count": null,
      "outputs": []
    },
    {
      "cell_type": "markdown",
      "source": [
        "## 1.3 Разделение набора данных на тренировочный и тестовый\n",
        "\n",
        "Разделите набор данных на тренировочный и тестовый в соотношении 80%/20% при помощи функции train_test_split библиотеки sklearn.model_selection. При необходимости категориальные признаки в числовые (например, при помощи функции get_dummies библиотеки pandas)."
      ],
      "metadata": {
        "id": "Uf5huLhWDAAs"
      }
    },
    {
      "cell_type": "code",
      "source": [
        ""
      ],
      "metadata": {
        "id": "m4TFkOgJOKVx"
      },
      "execution_count": null,
      "outputs": []
    },
    {
      "cell_type": "markdown",
      "source": [
        "## 1.4 OLS regression\n",
        "\n",
        "Обучить модель линейной регрессии методом наименьших квадратов (ordinary least squares linear regression), импортировав класс `LinearRegression` из библиотеки `sklearn.linear_model`. Оцените ошибку вашей модели при помощи метрики RMSE. Посмотрите, как влияет исключение из набора данных выбросов (экстремальных значений, например, больше 95 квантиля) на оценку ошибки.\n",
        "\n"
      ],
      "metadata": {
        "id": "47br_pClCv7K"
      }
    },
    {
      "cell_type": "code",
      "source": [
        ""
      ],
      "metadata": {
        "id": "4uxuHscFEaDD"
      },
      "execution_count": null,
      "outputs": []
    },
    {
      "cell_type": "markdown",
      "source": [
        "## 1.5 Ridge regression\n",
        "\n",
        "Обучить модель линейной регрессии с $L_2$-регуляризацией (Гребневая регрессия, Ridge regression), импортировав класс `Ridge` из библиотеки `sklearn.linear_model`. Оцените ошибку вашей модели при помощи метрики RMSE\n"
      ],
      "metadata": {
        "id": "XjP6TDE_C9BQ"
      }
    },
    {
      "cell_type": "code",
      "source": [
        ""
      ],
      "metadata": {
        "id": "J-jt6LkLEapV"
      },
      "execution_count": null,
      "outputs": []
    },
    {
      "cell_type": "markdown",
      "source": [
        "## 1.6 Lasso regression\n",
        "\n",
        "Обучить модель линейной регрессии с $L_1$-регуляризацией (Lasso regression), импортировав класс `Lasso` из библиотеки `sklearn.linear_model`. Оцените ошибку вашей модели при помощи метрики RMSE"
      ],
      "metadata": {
        "id": "ZznS1COIC9D1"
      }
    },
    {
      "cell_type": "code",
      "source": [
        ""
      ],
      "metadata": {
        "id": "vjbsj9YDE_z6"
      },
      "execution_count": null,
      "outputs": []
    },
    {
      "cell_type": "markdown",
      "source": [
        "## 1.7 Оптимизация Ridge regression\n",
        "\n",
        "Сделайте перебор в цикле гиперпараметра `alpha` для модели `Ridge` от 0 до 1 с шагом 0.05. Постройте график ошибки RMSE на тестовых данных в зависимости от гиперпараметра `alpha`"
      ],
      "metadata": {
        "id": "cKzqNRmuE8Q8"
      }
    },
    {
      "cell_type": "code",
      "source": [
        ""
      ],
      "metadata": {
        "id": "HN-dRkhqFBoX"
      },
      "execution_count": null,
      "outputs": []
    },
    {
      "cell_type": "markdown",
      "source": [
        "## 1.8 Вывод\n",
        "\n",
        "Сравните качество (величину ошибки) для моделей из пп. 1.4-1.7. Какая модель показала наилучший результат?"
      ],
      "metadata": {
        "id": "KPku-PN3Edbc"
      }
    },
    {
      "cell_type": "markdown",
      "source": [
        "Ваш ответ:"
      ],
      "metadata": {
        "id": "sMdiNzk-MFL8"
      }
    },
    {
      "cell_type": "markdown",
      "source": [
        "# 2. Задача классификации (9 баллов)\n",
        "\n",
        "Постройте модель машинного обучения, решающую задачу классификации на вашем наборе данных. Задание считается выполненным, если соответствующая оценка качества на тестовой выборке >= baseline."
      ],
      "metadata": {
        "id": "6LnSFtGFCCUU"
      }
    },
    {
      "cell_type": "markdown",
      "source": [
        "## 2.1 Загрузка данных\n",
        "\n",
        "Загрузите данные в датафрейм при помощи функции `read_csv` блиблиотеки `pandas`"
      ],
      "metadata": {
        "id": "YYsBIcEgV_K5"
      }
    },
    {
      "cell_type": "code",
      "source": [
        ""
      ],
      "metadata": {
        "id": "-rsk-UpEMndr"
      },
      "execution_count": null,
      "outputs": []
    },
    {
      "cell_type": "markdown",
      "source": [
        "## 2.2 Разделение набора данных на тренировочный и тестовый\n",
        "\n",
        "Разделите набор данных на тренировочный и тестовый при помощи функции `train_test_split` библиотеки ???"
      ],
      "metadata": {
        "id": "zzQUGxgEV_K6"
      }
    },
    {
      "cell_type": "code",
      "source": [
        ""
      ],
      "metadata": {
        "id": "bqm2X5sQMB7f"
      },
      "execution_count": null,
      "outputs": []
    },
    {
      "cell_type": "markdown",
      "source": [
        "## 2.3 Предобработка данных\n",
        "\n",
        "Проведите необходимую предобработку (перенормировку, выделение главных компонент и т.д.) данных. Приведите данные к такому виду, чтобы их можно было использовать для обучения моделей."
      ],
      "metadata": {
        "id": "aWCEpEfqN3sh"
      }
    },
    {
      "cell_type": "code",
      "source": [
        ""
      ],
      "metadata": {
        "id": "Gt9I4frj77rI"
      },
      "execution_count": null,
      "outputs": []
    },
    {
      "cell_type": "markdown",
      "source": [
        "## 2.4 Логистическая регрессия\n",
        "Обучите модель логистической регрессии, используя стандартную реализацию sklearn.linear_model.LogisticRegression. Оцените метрики качества полученной модели при помощи sklearn.metrics.classification_report и sklearn.metrics.f1_score."
      ],
      "metadata": {
        "id": "6ZY0qcwAWCRl"
      }
    },
    {
      "cell_type": "code",
      "source": [
        ""
      ],
      "metadata": {
        "id": "1ZuWI2yFUENe"
      },
      "execution_count": null,
      "outputs": []
    },
    {
      "cell_type": "markdown",
      "source": [
        "## 2.5 Подбор гиперпараметра регуляризации\n",
        "\n",
        "При помощи sklearn.model_selection.GridSearchCV переберите оптимальные параметры C в диапазоне 0.01 до 1 с шагом 0.1."
      ],
      "metadata": {
        "id": "ZguvQfjQbB7d"
      }
    },
    {
      "cell_type": "code",
      "source": [
        ""
      ],
      "metadata": {
        "id": "u7hufb2lWHiZ"
      },
      "execution_count": null,
      "outputs": []
    },
    {
      "cell_type": "markdown",
      "source": [
        "## 2.6 Выводы\n",
        "\n",
        "Сравните качество (величину ошибки) для моделей из пп. 2.4-2.5. Какая модель показала наилучший результат?"
      ],
      "metadata": {
        "id": "2DtdwkYVWYiH"
      }
    },
    {
      "cell_type": "markdown",
      "source": [
        "Ваш ответ: "
      ],
      "metadata": {
        "id": "H6gLeRADWdF9"
      }
    },
    {
      "cell_type": "markdown",
      "source": [
        "# 3. Самописная линейная регрессиия (3 балла)\n",
        "\n",
        "Релизовать алгоритм построения модели линейной регрессии методом стохастического градиентного спуска (stochastic gradient descent, SGD) при помощи библиотек numpy, pytorch или tensorflow."
      ],
      "metadata": {
        "id": "nJkkqKFODKJd"
      }
    },
    {
      "cell_type": "code",
      "source": [
        "class SGDLinearRegression:\n",
        "    def __init__(self, epsilon = 0.001):\n",
        "        self.w = None\n",
        "        self.bias = None\n",
        "        self.epsilon = epsilon\n",
        "        pass\n",
        "\n",
        "    def fit(self, X, y, iterations=500):\n",
        "        # Ваш код здесь\n",
        "        pass\n",
        "    \n",
        "    def predict(self, X):\n",
        "        # Ваш код здесь\n",
        "        pass\n"
      ],
      "metadata": {
        "id": "GmXdvDfMDV2n"
      },
      "execution_count": null,
      "outputs": []
    },
    {
      "cell_type": "markdown",
      "source": [
        "3.2 Обучите самописную модель. Воспользуйтесь sklearn.model_selection.GridSearchCV для подбора гипермапарметра (шага обновления градиента) epsilon среди `numpy.geomspace(0.0001, 1, num=13)`. Постройте график функции ошибки для epsilon `[0.0001, 0.001, 0.01, 0.1, 1]`."
      ],
      "metadata": {
        "id": "id1LsNUzYFNZ"
      }
    },
    {
      "cell_type": "code",
      "source": [
        ""
      ],
      "metadata": {
        "id": "oLA6lBpuYEyW"
      },
      "execution_count": null,
      "outputs": []
    },
    {
      "cell_type": "markdown",
      "source": [
        "3.3 Обучите модель на основе класса sklearn.linear_model.SGDRegressor с параметрами `alpha=0`. Сравните качество с вашими моделями из пункта 3.2."
      ],
      "metadata": {
        "id": "AH04Y_uuJ-uL"
      }
    },
    {
      "cell_type": "code",
      "source": [
        ""
      ],
      "metadata": {
        "id": "dhscwqqZMQMB"
      },
      "execution_count": null,
      "outputs": []
    },
    {
      "cell_type": "markdown",
      "source": [
        "Ваш вывод (2-3 предложения):"
      ],
      "metadata": {
        "id": "x2YrYqJHKbhn"
      }
    },
    {
      "cell_type": "markdown",
      "source": [
        "# 4. Самописная логистическая регрессиия (4 балла)\n",
        "\n",
        "Релизовать алгоритм построения модели логистической регрессии методом стохастического градиентного спуска (stochastic gradient descent, SGD) при помощи библиотек numpy, pytorch или tensorflow."
      ],
      "metadata": {
        "id": "ymPVCeWWJOU0"
      }
    },
    {
      "cell_type": "code",
      "source": [
        "class SGDLogisticRegression:\n",
        "    def __init__(self, epsilon = 0.001):\n",
        "        self.w = None\n",
        "        self.bias = None\n",
        "        self.epsilon = epsilon\n",
        "        pass\n",
        "\n",
        "    def sigmoid(self, a):\n",
        "        return  1. / (1. + np.exp(-1. * a))\n",
        "\n",
        "    def fit(self, X, y, iterations=500):\n",
        "        # Ваш код здесь\n",
        "        pass\n",
        "\n",
        "\n",
        "    def predict(self, X):\n",
        "        # Ваш код здесь\n",
        "        pass\n"
      ],
      "metadata": {
        "id": "ynNyByt5Djfu"
      },
      "execution_count": null,
      "outputs": []
    },
    {
      "cell_type": "markdown",
      "source": [
        "4.2 Обучите самописную модель. Воспользуйтесь sklearn.model_selection.GridSearchCV для подбора гипермапарметра (шага обновления градиента) epsilon среди `numpy.geomspace(0.0001, 1, num=13)`. Постройте график функции ошибки для epsilon `[0.0001, 0.001, 0.01, 0.1, 1]`."
      ],
      "metadata": {
        "id": "OMJmDxeWEXsA"
      }
    },
    {
      "cell_type": "code",
      "source": [
        ""
      ],
      "metadata": {
        "id": "_dhcxRqxEXU9"
      },
      "execution_count": null,
      "outputs": []
    },
    {
      "cell_type": "markdown",
      "source": [
        " 4.3 Обучите модель на основе класса sklearn.linear_model.SGDClassifier с параметрами `loss='log'`. Сравните качество с вашими моделями из пункта 4.2."
      ],
      "metadata": {
        "id": "nRbKNb2OKYAl"
      }
    },
    {
      "cell_type": "code",
      "source": [
        ""
      ],
      "metadata": {
        "id": "7tNOK9X_JaIg"
      },
      "execution_count": null,
      "outputs": []
    },
    {
      "cell_type": "markdown",
      "source": [
        "Ваш вывод (2-3 предложения):"
      ],
      "metadata": {
        "id": "GjokaJAtKo8c"
      }
    },
    {
      "cell_type": "code",
      "source": [
        ""
      ],
      "metadata": {
        "id": "LloKO6sUHaLr"
      },
      "execution_count": null,
      "outputs": []
    }
  ]
}
